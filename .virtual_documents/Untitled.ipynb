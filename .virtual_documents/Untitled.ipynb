import pandas as pd
import altair as alt
from dash import Dash, html, dcc, Input, Output
alt.data_transformers.disable_max_rows()


gap_data = pd.read_csv('world-data-gapminder_raw.csv')

gap_data = gap_data.groupby(['sub_region', 'year']).mean()


chart = alt.Chart(gap_data.reset_index()).mark_line().encode(
    x='year',
    y='life_expectancy',
    color='sub_region')


chart


app = Dash(__name__)
app.layout = html.Div([
        html.Iframe(srcDoc=chart.to_html())])

if __name__ == '__main__':
    app.run_server(debug=True)


app.layout = html.Div([
        html.Iframe(
            srcDoc=chart.to_html(),
            style={'border-width': '0', 'width': '100%', 'height': '400px'})])



